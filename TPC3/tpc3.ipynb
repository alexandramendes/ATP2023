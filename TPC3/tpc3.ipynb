{
 "cells": [
  {
   "cell_type": "markdown",
   "metadata": {},
   "source": [
    "## TPC3: Adivinha o número!?\n",
    "\n",
    "Desenvolve em Python o código necessário para o jogo do Adivinha o número: \n",
    "* O jogo deverá ter dois modos: o computador tenta acertar no número que o jogador pensou ou, o jogador tenta acertar no número que o computador pensou; \n",
    "* No fim, o programa deverá indicar quantas tentativas foram realizadas para chegar ao resultado;\n",
    "* O Jogo: \n",
    "    - o utilizador pensa num número entre 0 e 100;\n",
    "    - o computador tenta adivinhar indicando um número do intervalo;\n",
    "    - o utilizador indica se o número em que pensou é **maior**, **menor**, ou se o computador **acertou**;\n",
    "    - ao terminar, o programa imprime o número de tentativas que o computador teve de fazer até chegar ao número.\n",
    "\n",
    "Que conclusão podes tirar sobre o número de tentativas necessárias para um número entre 0 e 100? E se fosse entre 0 e 1000?"
   ]
  },
  {
   "cell_type": "code",
   "execution_count": null,
   "metadata": {},
   "outputs": [],
   "source": [
    "import random\n",
    "print(\"Bem vindo!\")\n",
    "print(\"Modos do jogo: 1-> o jogador escolhe o número; 2-> o computador escolhe o número\")\n",
    "mode = int(input(\"Escolhe o modo em que queres jogar:\"))\n",
    "tentativas = 0\n",
    "limite_inf = 1\n",
    "limite_sup = 100\n",
    "if mode == 1:\n",
    "    numero = random.randint(limite_inf,limite_sup)\n",
    "    print(numero)\n",
    "    n = input(\"O número em que estás a pensar é maior ou menor? Caso tenha acertado, escreve 'acertou'\")\n",
    "    while n!= \"acertou\":\n",
    "        if n == \"maior\":\n",
    "            limite_inf = numero + 1\n",
    "            numero = random.randint(limite_inf,limite_sup)\n",
    "            print(numero)\n",
    "        if n == \"menor\":\n",
    "            limite_sup = numero - 1\n",
    "            numero = random.randint(limite_inf,limite_sup)\n",
    "            print(numero)\n",
    "        n = input(\"O número em que estás a pensar é maior ou menor?\")\n",
    "        tentativas = tentativas + 1\n",
    "    print(\"Parabéns! Conseguiste!!\")\n",
    "    print(f\"Foram necessárias {tentativas} tentativas!\")\n",
    "if mode == 2:\n",
    "    numero = random.randint(limite_inf,limite_sup)\n",
    "    n = int(input(\"Escolhe o número que achas que é\"))\n",
    "    tentativas = 0\n",
    "    while n!= numero:\n",
    "        if n < numero:\n",
    "            print(\"O número é maior\")\n",
    "            n = int(input(\"Tenta outro número maior\"))\n",
    "        if n > numero:\n",
    "            print(\"O numero é menor\")\n",
    "            n = int(input(\"Tenta outro número menor\"))\n",
    "        tentativas = tentativas + 1\n",
    "    print(f\"Parabéns! Conseguiste! O número é {n}!\")\n",
    "    print(f\"Foram necessárias {tentativas} tentativas!\")\n",
    "\n",
    "#O computador adivinha o número utilizando o algoritmo da procura binária, isto é, divide sucessivamente o intervalo \n",
    "#em metade a cada tentativa. Desta forma, o número de tentativas será menor quanto menor for o intervalo fornecido, \n",
    "#ou seja, no intervalo de 0-1000 o número de tentativas será maior que o de 0-100.\n",
    " "
   ]
  }
 ],
 "metadata": {
  "kernelspec": {
   "display_name": "Python 3",
   "language": "python",
   "name": "python3"
  },
  "language_info": {
   "codemirror_mode": {
    "name": "ipython",
    "version": 3
   },
   "file_extension": ".py",
   "mimetype": "text/x-python",
   "name": "python",
   "nbconvert_exporter": "python",
   "pygments_lexer": "ipython3",
   "version": "3.10.7"
  },
  "orig_nbformat": 4
 },
 "nbformat": 4,
 "nbformat_minor": 2
}
