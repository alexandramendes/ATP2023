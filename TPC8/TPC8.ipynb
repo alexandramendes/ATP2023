{
 "cells": [
  {
   "cell_type": "markdown",
   "metadata": {},
   "source": [
    "### tpc-1. Especifique as seguintes listas em compreensão:"
   ]
  },
  {
   "cell_type": "markdown",
   "metadata": {},
   "source": [
    "#### a) Lista formada pelos elementos que não são comuns às duas listas:"
   ]
  },
  {
   "cell_type": "code",
   "execution_count": 1,
   "metadata": {},
   "outputs": [],
   "source": [
    "lista1 = [1, 2, 3, 4, 5]\n",
    "lista2 = [4, 5, 6, 7, 8]  \n",
    "comuns = []\n",
    "# Resultado esperado: [1,2,3,5,7,8]"
   ]
  },
  {
   "cell_type": "code",
   "execution_count": 2,
   "metadata": {},
   "outputs": [
    {
     "name": "stdout",
     "output_type": "stream",
     "text": [
      "[1, 2, 3, 6, 7, 8]\n"
     ]
    }
   ],
   "source": [
    "comuns = sorted([i for i in lista1 if i not in lista2] + [j for j in lista2 if j not in lista1])\n",
    "print(comuns)"
   ]
  },
  {
   "cell_type": "markdown",
   "metadata": {},
   "source": [
    "#### b) Lista formada pelas palavras do texto compostas por mais de 3 letras:"
   ]
  },
  {
   "cell_type": "code",
   "execution_count": 3,
   "metadata": {},
   "outputs": [],
   "source": [
    "texto = \"\"\"Vivia há já não poucos anos algures num concelho do Ribatejo \n",
    "    um pequeno lavrador e negociante de gado chamado Manuel Peres Vigário\"\"\"\n",
    "lista = [...]\n",
    "# Resultado esperado: ['Vivia', 'poucos', 'anos', 'algures', 'concelho', ...]"
   ]
  },
  {
   "cell_type": "code",
   "execution_count": 4,
   "metadata": {},
   "outputs": [
    {
     "name": "stdout",
     "output_type": "stream",
     "text": [
      "['Vivia', 'poucos', 'anos', 'algures', 'concelho', 'Ribatejo', 'pequeno', 'lavrador', 'negociante', 'gado', 'chamado', 'Manuel', 'Peres', 'Vigário']\n"
     ]
    }
   ],
   "source": [
    "lista = [i for i in texto.split(' ') if len(i)>3]\n",
    "print(lista)"
   ]
  },
  {
   "cell_type": "markdown",
   "metadata": {},
   "source": [
    "#### c) Lista formada por pares do tipo (índice, valor) com os valores da lista dada:"
   ]
  },
  {
   "cell_type": "code",
   "execution_count": 6,
   "metadata": {},
   "outputs": [],
   "source": [
    "lista = ['anaconda', 'burro', 'cavalo', 'macaco']\n",
    "listaRes = [...]\n",
    "# Resultado esperado: [(1,'anaconda'), (2,'burro'), (3,'cavalo'), (4,'macaco')]"
   ]
  },
  {
   "cell_type": "code",
   "execution_count": 7,
   "metadata": {},
   "outputs": [
    {
     "name": "stdout",
     "output_type": "stream",
     "text": [
      "[(1, 'anaconda'), (2, 'burro'), (3, 'cavalo'), (4, 'macaco')]\n"
     ]
    }
   ],
   "source": [
    "listaRes = [(i+1, lista[i]) for i in range(len(lista))]\n",
    "print(listaRes)"
   ]
  },
  {
   "cell_type": "markdown",
   "metadata": {},
   "source": [
    "### tpc-2. À semelhança do que foi feito nas aulas, realize as seguintes tarefas:"
   ]
  },
  {
   "cell_type": "markdown",
   "metadata": {},
   "source": [
    "#### a) Especifique uma função que dada uma string e uma substring não vazia, calcula  o número de vezes em que a substring aparece na string, sem que haja sobreposição de substrings:"
   ]
  },
  {
   "cell_type": "code",
   "execution_count": 8,
   "metadata": {},
   "outputs": [
    {
     "data": {
      "text/plain": [
       "2"
      ]
     },
     "execution_count": 8,
     "metadata": {},
     "output_type": "execute_result"
    }
   ],
   "source": [
    "def strCount(s, subs):\n",
    "    contador = 0\n",
    "    lista = []\n",
    "    for i in range(0,len(s),len(subs)):\n",
    "        palavras = s[i:i+3]\n",
    "        lista.append(palavras)\n",
    "    for j in lista:\n",
    "        if j == subs:\n",
    "            contador = contador + 1\n",
    "    return contador\n",
    "\n",
    "strCount(\"catcowcat\", \"cat\") # --> 2\n",
    "#strCount(\"catcowcat\", \"cow\") # --> 1\n",
    "#strCount(\"catcowcat\", \"dog\") # --> 0"
   ]
  },
  {
   "cell_type": "markdown",
   "metadata": {},
   "source": [
    "#### b) Especifique uma função que recebe uma lista de números inteiros positivos e devolve o menor produto que for possível calcular multiplicando os 3 menores inteiros da lista:"
   ]
  },
  {
   "cell_type": "code",
   "execution_count": 9,
   "metadata": {},
   "outputs": [
    {
     "name": "stdout",
     "output_type": "stream",
     "text": [
      "168\n"
     ]
    }
   ],
   "source": [
    "def produtoM3(lista):\n",
    "    tresmenores = []\n",
    "    while len(tresmenores) < 3:\n",
    "        tresmenores.append(menornum(lista))\n",
    "        lista.remove(menornum(lista))\n",
    "    produto = tresmenores[0]*tresmenores[1]*tresmenores[2]\n",
    "    return produto\n",
    "\n",
    "def menornum(lista):\n",
    "    menor = lista[0]\n",
    "    for i in lista:\n",
    "        if i < menor:\n",
    "            menor = i\n",
    "    return menor\n",
    "\n",
    "print(produtoM3([12,3,7,10,12,8,9]))\n",
    "# Resultado esperado: 168 = 3 * 7 * 8"
   ]
  },
  {
   "cell_type": "markdown",
   "metadata": {},
   "source": [
    "#### c) Especifique uma função que dado um número inteiro positivo, repetidamente adiciona os seus dígitos até obter apenas um dígito que é retornado como resultado:"
   ]
  },
  {
   "cell_type": "code",
   "execution_count": 19,
   "metadata": {},
   "outputs": [
    {
     "data": {
      "text/plain": [
       "2"
      ]
     },
     "execution_count": 19,
     "metadata": {},
     "output_type": "execute_result"
    }
   ],
   "source": [
    "# Input: 38\n",
    "# Output: 2\n",
    "# Explicação: 3 + 8 = 11, 1 + 1 = 2.\n",
    "\n",
    "# Input: 777\n",
    "# Output: 3\n",
    "# Explicação: 7 + 7 + 7 = 21, 2 + 1 = 3.\n",
    "\n",
    "def reduxInt(n):         \n",
    "    while n >= 10:\n",
    "        soma = 0\n",
    "        while n > 0:\n",
    "            soma = soma + n % 10\n",
    "            n //= 10\n",
    "        n = soma\n",
    "    return n\n",
    "\n",
    "reduxInt(38)"
   ]
  },
  {
   "cell_type": "markdown",
   "metadata": {},
   "source": [
    "#### d) Especifique uma função que recebe duas strings, `string1` e `string2`, e devolve o índice da primeira ocorrência de `string2` em `string1`, caso não ocorra nenhuma vez a função deverá retornar `-1`:"
   ]
  },
  {
   "cell_type": "code",
   "execution_count": 11,
   "metadata": {},
   "outputs": [
    {
     "data": {
      "text/plain": [
       "3"
      ]
     },
     "execution_count": 11,
     "metadata": {},
     "output_type": "execute_result"
    }
   ],
   "source": [
    "# Invocação: indexOf(\"Hoje está um belo dia de sol!\", \"belo\")\n",
    "# Resultado: 13\n",
    "\n",
    "# Invocação: indexOf(\"Hoje está um belo dia de sol!\", \"chuva\")\n",
    "# Resultado: -1\n",
    "\n",
    "def myIndexOf(s1, s2):\n",
    "    palavras1 = s1.split(' ')\n",
    "    i = 0\n",
    "    res = -1\n",
    "    while i < len(palavras1):\n",
    "        if palavras1[i] == s2:\n",
    "            res = i\n",
    "        i = i + 1\n",
    "    return res\n",
    "\n",
    "s1 = \"Hoje está um belo dia de sol!\"\n",
    "s2 = \"belo\"\n",
    "myIndexOf(s1, s2)"
   ]
  },
  {
   "cell_type": "markdown",
   "metadata": {},
   "source": [
    "### tpc-3. A Rede Social\n",
    "\n",
    "Considere que a informação sobre uma rede social está armazenada numa lista de dicionários.\n",
    "\n",
    "Cada dicionário, correspondente a um _post_ e tem chaves `id`, `conteudo`, `autor`, `dataCriacao` e `comentarios`.\n",
    "Por sua vez, `comentarios` é uma lista de dicionários com chaves `comentario` e `autor`.\n",
    "\n",
    "Considere o seguinte exemplo:\n",
    "\n",
    "``` \n",
    "    MyFaceBook = [{\n",
    "        'id': 'p1', \n",
    "        'conteudo': 'A tarefa de avaliação é talvez a mais ingrata das tarefas que um professor\n",
    "    tem de realizar...', \n",
    "        'autor': 'jcr', \n",
    "        'dataCriacao': '2023-07-20', \n",
    "        'comentarios': [\n",
    "            {\n",
    "                'comentario': 'Completamente de acordo...',\n",
    "                'autor': 'prh'\n",
    "            },\n",
    "            {\n",
    "                'comentario': 'Mas há quem goste...',\n",
    "                'autor': 'jj'\n",
    "            }\n",
    "        ]},\n",
    "        {\n",
    "            'id': 'p2',\n",
    "            ...\n",
    "        },\n",
    "        ...\n",
    "        ]\n",
    "```"
   ]
  },
  {
   "cell_type": "markdown",
   "metadata": {},
   "source": [
    "#### a) `quantosPost`, que indica quantos posts estão registados:"
   ]
  },
  {
   "cell_type": "code",
   "execution_count": 12,
   "metadata": {},
   "outputs": [],
   "source": [
    "def quantosPost(redeSocial):\n",
    "    return len(redeSocial)"
   ]
  },
  {
   "cell_type": "markdown",
   "metadata": {},
   "source": [
    "#### b)  `postsAutor`, que devolve a lista de posts de um determinado autor:"
   ]
  },
  {
   "cell_type": "code",
   "execution_count": 13,
   "metadata": {},
   "outputs": [],
   "source": [
    "def postsAutor(redeSocial, autor):\n",
    "    listaposts = []\n",
    "    for post in redeSocial:\n",
    "        if post['autor'] == autor:\n",
    "            listaposts.append(post)\n",
    "    return listaposts"
   ]
  },
  {
   "cell_type": "markdown",
   "metadata": {},
   "source": [
    "#### c) `autores`, que devolve a lista de autores de posts ordenada alfabeticamente:"
   ]
  },
  {
   "cell_type": "code",
   "execution_count": 14,
   "metadata": {},
   "outputs": [],
   "source": [
    "def autores(redeSocial):\n",
    "    listaautores = []\n",
    "    for post in redeSocial:\n",
    "        autor = post['autor']\n",
    "        if autor not in listaautores:\n",
    "            listaautores.append(autor)\n",
    "    listaautores.sort()\n",
    "    return listaautores"
   ]
  },
  {
   "cell_type": "markdown",
   "metadata": {},
   "source": [
    "#### d) `insPost`, que acrescenta um novo post à rede social a partir dos parâmetros recebidos e devolve a nova rede social. \n",
    "    \n",
    "O campo `id` devrá ser calculado a partir dos já existentes, por exemplo, se a rede tiver posts com id `p1`, `p2` e `p3`, o novo `id` deverá ser `p4`."
   ]
  },
  {
   "cell_type": "code",
   "execution_count": 20,
   "metadata": {},
   "outputs": [],
   "source": [
    "def insPost(redeSocial, conteudo, autor, dataCriacao, comentarios):\n",
    "    ids_existentes = [post['id'] for post in redeSocial]\n",
    "    novo_id = 'p' + str(len(ids_existentes) + 1)\n",
    "    \n",
    "    novo_post = {\n",
    "        'id': novo_id,\n",
    "        'conteudo': conteudo,\n",
    "        'autor': autor,\n",
    "        'dataCriacao': dataCriacao,\n",
    "        'comentarios': comentarios\n",
    "    }\n",
    "    \n",
    "    redeSocial.append(novo_post)\n",
    "    \n",
    "    return redeSocial"
   ]
  },
  {
   "cell_type": "markdown",
   "metadata": {},
   "source": [
    "#### e)  `remPost`, que remove um post da rede, correspondente ao `id` recebido."
   ]
  },
  {
   "cell_type": "code",
   "execution_count": 16,
   "metadata": {},
   "outputs": [],
   "source": [
    "def remPost(redeSocial, id):\n",
    "    for post in redeSocial:\n",
    "        if post['id'] == id:\n",
    "            redeSocial.remove(post)\n",
    "    return redeSocial"
   ]
  },
  {
   "cell_type": "markdown",
   "metadata": {},
   "source": [
    "#### f) `postsPorAutor`, que devolve uma distribuição de posts por autor (à semelhança do que foi feito nas aulas)."
   ]
  },
  {
   "cell_type": "code",
   "execution_count": 17,
   "metadata": {},
   "outputs": [],
   "source": [
    "def postsPorAutor(redeSocial):\n",
    "    dic = {}\n",
    "    for post in redeSocial:\n",
    "        if post['autor'] in dic:\n",
    "            dic[autor].append(post)\n",
    "        else:\n",
    "            dic[autor] = [post]            \n",
    "    return dic"
   ]
  },
  {
   "cell_type": "markdown",
   "metadata": {},
   "source": [
    "#### g) `comentadoPor`, que recebe um autor e devolve a lista de posts comentados por esse autor."
   ]
  },
  {
   "cell_type": "code",
   "execution_count": 18,
   "metadata": {},
   "outputs": [],
   "source": [
    "def comentadoPor(redeSocial, autor):\n",
    "    listacom = []\n",
    "    for post in redeSocial:\n",
    "        for comentarios in post['comentario']:\n",
    "            if comentarios['autor'] == autor:\n",
    "                listacom.append(post)\n",
    "    return listacom"
   ]
  }
 ],
 "metadata": {
  "kernelspec": {
   "display_name": "Python 3",
   "language": "python",
   "name": "python3"
  },
  "language_info": {
   "codemirror_mode": {
    "name": "ipython",
    "version": 3
   },
   "file_extension": ".py",
   "mimetype": "text/x-python",
   "name": "python",
   "nbconvert_exporter": "python",
   "pygments_lexer": "ipython3",
   "version": "3.10.7"
  }
 },
 "nbformat": 4,
 "nbformat_minor": 2
}
